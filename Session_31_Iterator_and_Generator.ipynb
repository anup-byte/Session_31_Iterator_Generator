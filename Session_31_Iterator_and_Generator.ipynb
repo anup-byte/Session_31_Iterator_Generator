{
 "cells": [
  {
   "cell_type": "code",
   "execution_count": 1,
   "id": "7d01d0fa",
   "metadata": {},
   "outputs": [],
   "source": [
    "#Iterable , Iterator and Generator"
   ]
  },
  {
   "cell_type": "code",
   "execution_count": null,
   "id": "ff2ae8de",
   "metadata": {},
   "outputs": [],
   "source": [
    "# list, tuple, string "
   ]
  },
  {
   "cell_type": "code",
   "execution_count": null,
   "id": "5bbe97b7",
   "metadata": {},
   "outputs": [],
   "source": [
    "# Iterable objects can be looped over, we can iterate through their elements using a for loop."
   ]
  },
  {
   "cell_type": "code",
   "execution_count": 2,
   "id": "0aca6c50",
   "metadata": {},
   "outputs": [
    {
     "name": "stdout",
     "output_type": "stream",
     "text": [
      "1\n",
      "2\n",
      "3\n",
      "4\n",
      "5\n"
     ]
    }
   ],
   "source": [
    "my_list = [1,2,3,4,5]\n",
    "for i in my_list:\n",
    "    print(i)"
   ]
  },
  {
   "cell_type": "code",
   "execution_count": 10,
   "id": "75766669",
   "metadata": {},
   "outputs": [],
   "source": [
    "a = 5\n",
    "b =12"
   ]
  },
  {
   "cell_type": "code",
   "execution_count": 11,
   "id": "2dfdc036",
   "metadata": {},
   "outputs": [
    {
     "name": "stdout",
     "output_type": "stream",
     "text": [
      "<class 'int'>\n"
     ]
    }
   ],
   "source": [
    "print(type(b))"
   ]
  },
  {
   "cell_type": "code",
   "execution_count": 6,
   "id": "9fbe5a38",
   "metadata": {},
   "outputs": [
    {
     "name": "stdout",
     "output_type": "stream",
     "text": [
      "<class 'int'>\n"
     ]
    }
   ],
   "source": [
    "print(type(a))"
   ]
  },
  {
   "cell_type": "code",
   "execution_count": 8,
   "id": "64d72e3d",
   "metadata": {},
   "outputs": [
    {
     "name": "stdout",
     "output_type": "stream",
     "text": [
      "<class 'list'>\n"
     ]
    }
   ],
   "source": [
    "print(type(my_list))"
   ]
  },
  {
   "cell_type": "code",
   "execution_count": 12,
   "id": "8f3f77b4",
   "metadata": {},
   "outputs": [
    {
     "name": "stdout",
     "output_type": "stream",
     "text": [
      "A\n",
      "d\n",
      "a\n",
      "r\n",
      "s\n",
      "h\n"
     ]
    }
   ],
   "source": [
    "my_string = 'Adarsh'\n",
    "for i in my_string:\n",
    "    print(i)\n"
   ]
  },
  {
   "cell_type": "code",
   "execution_count": null,
   "id": "f3a79daf",
   "metadata": {},
   "outputs": [],
   "source": [
    "# whatever that is iterable we can able to produce iterator with that object."
   ]
  },
  {
   "cell_type": "code",
   "execution_count": 13,
   "id": "e3bfce4a",
   "metadata": {},
   "outputs": [],
   "source": [
    "l = [1, 2, 3, 4, 5, 6, 7] # iterable\n",
    "itr = iter(l) # iterator object is created"
   ]
  },
  {
   "cell_type": "code",
   "execution_count": 14,
   "id": "6773582f",
   "metadata": {},
   "outputs": [
    {
     "data": {
      "text/plain": [
       "1"
      ]
     },
     "execution_count": 14,
     "metadata": {},
     "output_type": "execute_result"
    }
   ],
   "source": [
    "next(itr)"
   ]
  },
  {
   "cell_type": "code",
   "execution_count": 15,
   "id": "fbe33625",
   "metadata": {},
   "outputs": [
    {
     "data": {
      "text/plain": [
       "2"
      ]
     },
     "execution_count": 15,
     "metadata": {},
     "output_type": "execute_result"
    }
   ],
   "source": [
    "next(itr)"
   ]
  },
  {
   "cell_type": "code",
   "execution_count": 20,
   "id": "dc7c96c8",
   "metadata": {},
   "outputs": [
    {
     "data": {
      "text/plain": [
       "7"
      ]
     },
     "execution_count": 20,
     "metadata": {},
     "output_type": "execute_result"
    }
   ],
   "source": [
    "next(itr)"
   ]
  },
  {
   "cell_type": "code",
   "execution_count": 21,
   "id": "23c72398",
   "metadata": {},
   "outputs": [
    {
     "ename": "StopIteration",
     "evalue": "",
     "output_type": "error",
     "traceback": [
      "\u001b[0;31m---------------------------------------------------------------------------\u001b[0m",
      "\u001b[0;31mStopIteration\u001b[0m                             Traceback (most recent call last)",
      "Cell \u001b[0;32mIn[21], line 1\u001b[0m\n\u001b[0;32m----> 1\u001b[0m \u001b[38;5;28mnext\u001b[39m(itr)\n",
      "\u001b[0;31mStopIteration\u001b[0m: "
     ]
    }
   ],
   "source": [
    "next(itr)"
   ]
  },
  {
   "cell_type": "code",
   "execution_count": 22,
   "id": "f5865cd0",
   "metadata": {},
   "outputs": [],
   "source": [
    "l1 = [10, 20, 30, 40, 50] # iterable\n",
    "itr = iter(l1) # iterator object is created"
   ]
  },
  {
   "cell_type": "code",
   "execution_count": 28,
   "id": "b98773fd",
   "metadata": {},
   "outputs": [
    {
     "ename": "StopIteration",
     "evalue": "",
     "output_type": "error",
     "traceback": [
      "\u001b[0;31m---------------------------------------------------------------------------\u001b[0m",
      "\u001b[0;31mStopIteration\u001b[0m                             Traceback (most recent call last)",
      "Cell \u001b[0;32mIn[28], line 1\u001b[0m\n\u001b[0;32m----> 1\u001b[0m \u001b[38;5;28mnext\u001b[39m(itr)\n",
      "\u001b[0;31mStopIteration\u001b[0m: "
     ]
    }
   ],
   "source": [
    "next(itr)"
   ]
  },
  {
   "cell_type": "code",
   "execution_count": 29,
   "id": "82f8e816",
   "metadata": {},
   "outputs": [
    {
     "ename": "TypeError",
     "evalue": "'str' object is not an iterator",
     "output_type": "error",
     "traceback": [
      "\u001b[0;31m---------------------------------------------------------------------------\u001b[0m",
      "\u001b[0;31mTypeError\u001b[0m                                 Traceback (most recent call last)",
      "Cell \u001b[0;32mIn[29], line 2\u001b[0m\n\u001b[1;32m      1\u001b[0m sen \u001b[38;5;241m=\u001b[39m \u001b[38;5;124m\"\u001b[39m\u001b[38;5;124mAI Ki Pathshala\u001b[39m\u001b[38;5;124m\"\u001b[39m\n\u001b[0;32m----> 2\u001b[0m \u001b[38;5;28mnext\u001b[39m(sen)\n",
      "\u001b[0;31mTypeError\u001b[0m: 'str' object is not an iterator"
     ]
    }
   ],
   "source": [
    "sen = \"AI Ki Pathshala\"\n",
    "next(sen)"
   ]
  },
  {
   "cell_type": "code",
   "execution_count": 30,
   "id": "9c2a6b31",
   "metadata": {},
   "outputs": [],
   "source": [
    "sen = \"AI Ki Pathshala\"\n",
    "\n",
    "itr1 = iter(sen)"
   ]
  },
  {
   "cell_type": "code",
   "execution_count": 31,
   "id": "eb54bf49",
   "metadata": {},
   "outputs": [
    {
     "data": {
      "text/plain": [
       "'A'"
      ]
     },
     "execution_count": 31,
     "metadata": {},
     "output_type": "execute_result"
    }
   ],
   "source": [
    "next(itr1)"
   ]
  },
  {
   "cell_type": "code",
   "execution_count": 46,
   "id": "0f7f6b24",
   "metadata": {},
   "outputs": [
    {
     "ename": "StopIteration",
     "evalue": "",
     "output_type": "error",
     "traceback": [
      "\u001b[0;31m---------------------------------------------------------------------------\u001b[0m",
      "\u001b[0;31mStopIteration\u001b[0m                             Traceback (most recent call last)",
      "Cell \u001b[0;32mIn[46], line 1\u001b[0m\n\u001b[0;32m----> 1\u001b[0m \u001b[38;5;28mnext\u001b[39m(itr1)\n",
      "\u001b[0;31mStopIteration\u001b[0m: "
     ]
    }
   ],
   "source": [
    "next(itr1)"
   ]
  },
  {
   "cell_type": "code",
   "execution_count": null,
   "id": "0b50655d",
   "metadata": {},
   "outputs": [],
   "source": [
    "# Generator\n",
    "\n",
    "# A Generator is a special type of iterator in Python that allows us to create iterator using a function.\n",
    "\n",
    "# Generator allows us to generate as we go along instead of storing everything in memory.\n",
    "\n",
    "# The main difference is in the use of yield statement."
   ]
  },
  {
   "cell_type": "code",
   "execution_count": null,
   "id": "27e78876",
   "metadata": {},
   "outputs": [],
   "source": [
    "# Generate cube of a number using  Generator\n",
    "# Generator function for the cube of numbers(power of 3) is first it create object of \n",
    "#function and then in iterating process it generate the result."
   ]
  },
  {
   "cell_type": "code",
   "execution_count": 47,
   "id": "34929b2c",
   "metadata": {},
   "outputs": [
    {
     "name": "stdout",
     "output_type": "stream",
     "text": [
      "Number:  0 Cubes:  0\n",
      "Number:  1 Cubes:  1\n",
      "Number:  2 Cubes:  8\n",
      "Number:  3 Cubes:  27\n",
      "Number:  4 Cubes:  64\n",
      "Number:  5 Cubes:  125\n",
      "Number:  6 Cubes:  216\n",
      "Number:  7 Cubes:  343\n",
      "Number:  8 Cubes:  512\n",
      "Number:  9 Cubes:  729\n"
     ]
    }
   ],
   "source": [
    "def gencubes(n):\n",
    "    for num in range(n):\n",
    "        yield num, num ** 3\n",
    "        \n",
    "for i , x in gencubes(10):\n",
    "    print('Number: ', i , 'Cubes: ', x)\n"
   ]
  },
  {
   "cell_type": "code",
   "execution_count": 48,
   "id": "a8a15da7",
   "metadata": {},
   "outputs": [
    {
     "data": {
      "text/plain": [
       "<generator object gencubes at 0x10a912500>"
      ]
     },
     "execution_count": 48,
     "metadata": {},
     "output_type": "execute_result"
    }
   ],
   "source": [
    "gencubes(10)"
   ]
  },
  {
   "cell_type": "code",
   "execution_count": 49,
   "id": "2eee4d9d",
   "metadata": {},
   "outputs": [],
   "source": [
    "def gencubes1(n):\n",
    "    for num in range(n):\n",
    "        return num, num ** 3"
   ]
  },
  {
   "cell_type": "code",
   "execution_count": 50,
   "id": "2ece9589",
   "metadata": {},
   "outputs": [
    {
     "data": {
      "text/plain": [
       "(0, 0)"
      ]
     },
     "execution_count": 50,
     "metadata": {},
     "output_type": "execute_result"
    }
   ],
   "source": [
    "gencubes1(10)"
   ]
  },
  {
   "cell_type": "code",
   "execution_count": 51,
   "id": "b1e023ae",
   "metadata": {},
   "outputs": [],
   "source": [
    "def gencubes_2(n):\n",
    "    y = [num ** 3 for num in range(n)]\n",
    "    x = [num for num in range(n)]\n",
    "    return x, y"
   ]
  },
  {
   "cell_type": "code",
   "execution_count": 52,
   "id": "104288a9",
   "metadata": {},
   "outputs": [
    {
     "name": "stdout",
     "output_type": "stream",
     "text": [
      "[0, 1, 2, 3, 4, 5, 6, 7, 8, 9]   [0, 1, 8, 27, 64, 125, 216, 343, 512, 729]\n"
     ]
    }
   ],
   "source": [
    "x, y = gencubes_2(10)\n",
    "print(x,' ' ,y)"
   ]
  },
  {
   "cell_type": "code",
   "execution_count": 53,
   "id": "a116389f",
   "metadata": {},
   "outputs": [
    {
     "name": "stdout",
     "output_type": "stream",
     "text": [
      "0 - 1\n",
      "1 - 1\n",
      "2 - 2\n",
      "3 - 3\n",
      "4 - 5\n",
      "5 - 8\n",
      "6 - 13\n",
      "7 - 21\n",
      "8 - 34\n",
      "9 - 55\n"
     ]
    }
   ],
   "source": [
    "# Generate a fibonacci sequence up to n\n",
    "\n",
    "def genfibon(n):\n",
    "    a = 1\n",
    "    b = 1\n",
    "    for i in range(n):\n",
    "        yield a, i\n",
    "        a, b = b, a + b\n",
    "        \n",
    "for num, i in genfibon(10):\n",
    "    print(i, '-', num)"
   ]
  },
  {
   "cell_type": "code",
   "execution_count": 54,
   "id": "8afbda07",
   "metadata": {},
   "outputs": [
    {
     "data": {
      "text/plain": [
       "[1, 2, 3, 5, 8, 13, 21, 34, 55, 89]"
      ]
     },
     "execution_count": 54,
     "metadata": {},
     "output_type": "execute_result"
    }
   ],
   "source": [
    "def genfibon1(n):\n",
    "    a = 1\n",
    "    b = 2\n",
    "    output = []\n",
    "    \n",
    "    for i in range(n):\n",
    "        output.append(a)\n",
    "        a, b = b, a+b\n",
    "    return output\n",
    "\n",
    "genfibon1(10)"
   ]
  },
  {
   "cell_type": "code",
   "execution_count": null,
   "id": "d1976c82",
   "metadata": {},
   "outputs": [],
   "source": []
  },
  {
   "cell_type": "code",
   "execution_count": null,
   "id": "b21c575a",
   "metadata": {},
   "outputs": [],
   "source": []
  },
  {
   "cell_type": "code",
   "execution_count": null,
   "id": "c50a270a",
   "metadata": {},
   "outputs": [],
   "source": []
  },
  {
   "cell_type": "code",
   "execution_count": null,
   "id": "73ec1231",
   "metadata": {},
   "outputs": [],
   "source": []
  },
  {
   "cell_type": "code",
   "execution_count": null,
   "id": "cbe7fd5a",
   "metadata": {},
   "outputs": [],
   "source": []
  },
  {
   "cell_type": "code",
   "execution_count": null,
   "id": "edd6af2a",
   "metadata": {},
   "outputs": [],
   "source": []
  },
  {
   "cell_type": "code",
   "execution_count": null,
   "id": "408d237e",
   "metadata": {},
   "outputs": [],
   "source": []
  },
  {
   "cell_type": "code",
   "execution_count": null,
   "id": "371fc461",
   "metadata": {},
   "outputs": [],
   "source": []
  },
  {
   "cell_type": "code",
   "execution_count": null,
   "id": "9a6aed1b",
   "metadata": {},
   "outputs": [],
   "source": []
  },
  {
   "cell_type": "code",
   "execution_count": null,
   "id": "6d2fd94b",
   "metadata": {},
   "outputs": [],
   "source": []
  },
  {
   "cell_type": "code",
   "execution_count": null,
   "id": "50af2f27",
   "metadata": {},
   "outputs": [],
   "source": []
  },
  {
   "cell_type": "code",
   "execution_count": null,
   "id": "6da9f6bc",
   "metadata": {},
   "outputs": [],
   "source": []
  },
  {
   "cell_type": "code",
   "execution_count": null,
   "id": "c6c05e90",
   "metadata": {},
   "outputs": [],
   "source": []
  },
  {
   "cell_type": "code",
   "execution_count": null,
   "id": "aae5b0dc",
   "metadata": {},
   "outputs": [],
   "source": []
  },
  {
   "cell_type": "code",
   "execution_count": null,
   "id": "34bdba1a",
   "metadata": {},
   "outputs": [],
   "source": []
  },
  {
   "cell_type": "code",
   "execution_count": null,
   "id": "c5a0900a",
   "metadata": {},
   "outputs": [],
   "source": []
  },
  {
   "cell_type": "code",
   "execution_count": null,
   "id": "4e768d0d",
   "metadata": {},
   "outputs": [],
   "source": []
  },
  {
   "cell_type": "code",
   "execution_count": null,
   "id": "d75207e9",
   "metadata": {},
   "outputs": [],
   "source": []
  },
  {
   "cell_type": "code",
   "execution_count": null,
   "id": "6453f2eb",
   "metadata": {},
   "outputs": [],
   "source": []
  },
  {
   "cell_type": "code",
   "execution_count": null,
   "id": "14bea429",
   "metadata": {},
   "outputs": [],
   "source": []
  },
  {
   "cell_type": "code",
   "execution_count": null,
   "id": "c79dda63",
   "metadata": {},
   "outputs": [],
   "source": []
  },
  {
   "cell_type": "code",
   "execution_count": null,
   "id": "d57c2666",
   "metadata": {},
   "outputs": [],
   "source": []
  },
  {
   "cell_type": "code",
   "execution_count": null,
   "id": "fcf3fd38",
   "metadata": {},
   "outputs": [],
   "source": []
  }
 ],
 "metadata": {
  "kernelspec": {
   "display_name": "Python 3 (ipykernel)",
   "language": "python",
   "name": "python3"
  },
  "language_info": {
   "codemirror_mode": {
    "name": "ipython",
    "version": 3
   },
   "file_extension": ".py",
   "mimetype": "text/x-python",
   "name": "python",
   "nbconvert_exporter": "python",
   "pygments_lexer": "ipython3",
   "version": "3.11.4"
  }
 },
 "nbformat": 4,
 "nbformat_minor": 5
}
